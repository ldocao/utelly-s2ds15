{
 "cells": [
  {
   "cell_type": "markdown",
   "metadata": {},
   "source": [
    "In this file I am considering the collection \"aggregated_o_d_event\" inside our database.\n",
    "\n",
    "Then I have extracted from this collection the list of all the providers of each ondemand event."
   ]
  },
  {
   "cell_type": "code",
   "execution_count": 11,
   "metadata": {
    "collapsed": false
   },
   "outputs": [
    {
     "data": {
      "text/plain": [
       "[u'NowTV',\n",
       " u'demand5',\n",
       " u'Netflix',\n",
       " u'Film4OD',\n",
       " u'BlinkBox',\n",
       " u'ITunes',\n",
       " u'Amazon',\n",
       " u'BBCIplayer',\n",
       " u'4onDemand',\n",
       " u'BTVision',\n",
       " u'GooglePlay',\n",
       " u'ITVPlayer',\n",
       " u'Youtube']"
      ]
     },
     "execution_count": 11,
     "metadata": {},
     "output_type": "execute_result"
    }
   ],
   "source": [
    "import pymongo\n",
    "import matplotlib.pyplot as plt #useful for plotting\n",
    "import json\n",
    "import numpy as np\n",
    "client = pymongo.MongoClient('localhost', 27017)\n",
    "db = client.phoenix\n",
    "collection = db.phoenix\n",
    "\n",
    "db.aggregated_o_d_event.find_one()\n",
    "db.aggregated_o_d_event.distinct(\"location.name\")\n",
    "#all the different providers of on deman events\n",
    "providers = db.aggregated_o_d_event.distinct(\"location.name\")\n",
    "providers"
   ]
  },
  {
   "cell_type": "markdown",
   "metadata": {},
   "source": [
    "In the following, we have counted the number of ondemand events for each of the provider listed above."
   ]
  },
  {
   "cell_type": "code",
   "execution_count": 33,
   "metadata": {
    "collapsed": false
   },
   "outputs": [
    {
     "data": {
      "text/plain": [
       "{u'4onDemand': 889,\n",
       " u'Amazon': 25131,\n",
       " u'BBCIplayer': 4448,\n",
       " u'BTVision': 343,\n",
       " u'BlinkBox': 19834,\n",
       " u'Film4OD': 171,\n",
       " u'GooglePlay': 16351,\n",
       " u'ITVPlayer': 128,\n",
       " u'ITunes': 24487,\n",
       " u'Netflix': 419,\n",
       " u'NowTV': 763,\n",
       " u'Youtube': 2913,\n",
       " u'demand5': 3137}"
      ]
     },
     "execution_count": 33,
     "metadata": {},
     "output_type": "execute_result"
    }
   ],
   "source": [
    "events_per_provider = {}\n",
    "for i in providers:\n",
    "    num_events = db.aggregated_o_d_event.find({\"location.name\" : i}).count()\n",
    "    events_per_provider[i] = num_events\n",
    "\n",
    "events_per_provider"
   ]
  },
  {
   "cell_type": "markdown",
   "metadata": {},
   "source": [
    "Below, it is just an exercise that shows how to sort the dictionary based on the increasing order of its values."
   ]
  },
  {
   "cell_type": "code",
   "execution_count": 9,
   "metadata": {
    "collapsed": false
   },
   "outputs": [
    {
     "data": {
      "text/plain": [
       "[(u'ITVPlayer', 128),\n",
       " (u'Film4OD', 171),\n",
       " (u'BTVision', 343),\n",
       " (u'Netflix', 419),\n",
       " (u'NowTV', 763),\n",
       " (u'4onDemand', 889),\n",
       " (u'Youtube', 2913),\n",
       " (u'demand5', 3137),\n",
       " (u'BBCIplayer', 4448),\n",
       " (u'GooglePlay', 16351),\n",
       " (u'BlinkBox', 19834),\n",
       " (u'ITunes', 24487),\n",
       " (u'Amazon', 25131)]"
      ]
     },
     "execution_count": 9,
     "metadata": {},
     "output_type": "execute_result"
    }
   ],
   "source": [
    "from operator import itemgetter\n",
    "sorted(events_per_provider.items(), key=itemgetter(1))"
   ]
  },
  {
   "cell_type": "markdown",
   "metadata": {},
   "source": [
    "\n",
    "\n"
   ]
  },
  {
   "cell_type": "code",
   "execution_count": 34,
   "metadata": {
    "collapsed": false
   },
   "outputs": [
    {
     "name": "stdout",
     "output_type": "stream",
     "text": [
      "Populating the interactive namespace from numpy and matplotlib\n"
     ]
    },
    {
     "data": {
      "image/png": "[encoded data removed]",
      "text/plain": [
       "<matplotlib.figure.Figure at 0xf45c860>"
      ]
     },
     "metadata": {},
     "output_type": "display_data"
    }
   ],
   "source": [
    "%pylab inline\n",
    "data = events_per_provider\n",
    "x = data.keys()\n",
    "y = data.values()\n",
    "X = np.arange(len(data))\n",
    "plt.barh(X,y,align='center', alpha=0.4)\n",
    "plt.yticks(X, x)\n",
    "plt.xlabel(\"Events per Provider\")\n",
    "plt.show()"
   ]
  },
  {
   "cell_type": "code",
   "execution_count": null,
   "metadata": {
    "collapsed": false
   },
   "outputs": [],
   "source": []
  },
  {
   "cell_type": "code",
   "execution_count": null,
   "metadata": {
    "collapsed": true
   },
   "outputs": [],
   "source": []
  }
 ],
 "metadata": {
  "kernelspec": {
   "display_name": "Python 2",
   "language": "python",
   "name": "python2"
  },
  "language_info": {
   "codemirror_mode": {
    "name": "ipython",
    "version": 2
   },
   "file_extension": ".py",
   "mimetype": "text/x-python",
   "name": "python",
   "nbconvert_exporter": "python",
   "pygments_lexer": "ipython2",
   "version": "2.7.10"
  }
 },
 "nbformat": 4,
 "nbformat_minor": 0
}
