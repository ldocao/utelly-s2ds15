{
 "metadata": {
  "name": "",
  "signature": "sha256:94ba7a41b5cbd668a55dbef38667ad532e57d653f8a9ef75e5d345b0492603cc"
 },
 "nbformat": 3,
 "nbformat_minor": 0,
 "worksheets": [
  {
   "cells": [
    {
     "cell_type": "markdown",
     "metadata": {},
     "source": [
      "#Number of documents per collection\n"
     ]
    },
    {
     "cell_type": "code",
     "collapsed": false,
     "input": [
      "import pymongo\n",
      "\n",
      "client = pymongo.MongoClient(\"localhost\", 27017) \n",
      "db = client.phoenix\n",
      "all_collections = db.collection_names()\n",
      "\n",
      "\n",
      "##loop over all collections\n",
      "for c in all_collections:\n",
      "    print c, db[c].find().count()\n",
      "\n",
      "genre = db.genre\n",
      "event = db.event"
     ],
     "language": "python",
     "metadata": {},
     "outputs": [
      {
       "output_type": "stream",
       "stream": "stdout",
       "text": [
        "aggregated_o_d_event 99068\n",
        "system.indexes 100\n",
        "api_key 63877\n",
        "collection 50109\n",
        "e_p_g_provider 88323\n",
        "event 151002\n",
        "genre 766\n",
        "inbox 908\n",
        "location 592\n",
        "o_d_event 184319\n",
        "page 24\n",
        "refining_list 24\n",
        "reminder 19961\n",
        "saved_search 1955\n",
        "search_result 57801\n",
        "status 172\n",
        "topic 165462\n",
        "topic_type 4\n",
        "user 7903\n",
        "user_activity 145195\n",
        "user_log 721178\n",
        "user_topic 2196\n"
       ]
      }
     ],
     "prompt_number": 1
    }
   ],
   "metadata": {}
  }
 ]
}